{
 "cells": [
  {
   "cell_type": "markdown",
   "metadata": {},
   "source": [
    "# Волны московской реновации, промежуточные итоги 08.2024"
   ]
  },
  {
   "cell_type": "code",
   "execution_count": 2,
   "metadata": {},
   "outputs": [],
   "source": [
    "import pandas as pd\n",
    "import numpy as np\n",
    "import requests\n",
    "from tabula import read_pdf\n",
    "import warnings\n",
    "warnings.filterwarnings('ignore')"
   ]
  },
  {
   "cell_type": "markdown",
   "metadata": {},
   "source": [
    "#### Данные обо всех домах из фонда реновации"
   ]
  },
  {
   "cell_type": "code",
   "execution_count": 2,
   "metadata": {},
   "outputs": [],
   "source": [
    "# response_fr = requests.get(\"https://fr.mos.ru/pokupka-nedvizhimosti-dlya-vseh/ajax.php?status[]=OLD&pagesize=100000\")\n",
    "# df_fr = pd.DataFrame.from_dict(response_fr.json()[\"objects\"][\"items\"])\n",
    "# df_fr[\"longitude\"] = df_fr.coords.apply(lambda x: float(x[1]))\n",
    "# df_fr[\"latitude\"] = df_fr.coords.apply(lambda x: float(x[0]))\n",
    "\n",
    "# df_fr.to_pickle(\"fr.pkl\")"
   ]
  },
  {
   "cell_type": "code",
   "execution_count": 3,
   "metadata": {},
   "outputs": [],
   "source": [
    "df_fr = pd.read_pickle(\"fr.pkl\")"
   ]
  },
  {
   "cell_type": "code",
   "execution_count": 4,
   "metadata": {},
   "outputs": [
    {
     "data": {
      "text/html": [
       "<div>\n",
       "<style scoped>\n",
       "    .dataframe tbody tr th:only-of-type {\n",
       "        vertical-align: middle;\n",
       "    }\n",
       "\n",
       "    .dataframe tbody tr th {\n",
       "        vertical-align: top;\n",
       "    }\n",
       "\n",
       "    .dataframe thead th {\n",
       "        text-align: right;\n",
       "    }\n",
       "</style>\n",
       "<table border=\"1\" class=\"dataframe\">\n",
       "  <thead>\n",
       "    <tr style=\"text-align: right;\">\n",
       "      <th></th>\n",
       "      <th>id</th>\n",
       "      <th>name</th>\n",
       "      <th>code</th>\n",
       "      <th>district</th>\n",
       "      <th>coords</th>\n",
       "      <th>status_code</th>\n",
       "      <th>polygon</th>\n",
       "      <th>county</th>\n",
       "      <th>ext_status</th>\n",
       "      <th>infocenter</th>\n",
       "      <th>metro</th>\n",
       "      <th>finishing_code</th>\n",
       "      <th>longitude</th>\n",
       "      <th>latitude</th>\n",
       "    </tr>\n",
       "  </thead>\n",
       "  <tbody>\n",
       "    <tr>\n",
       "      <th>0</th>\n",
       "      <td>32698</td>\n",
       "      <td>1-й Ботанический проезд, дом 1</td>\n",
       "      <td>1-j-botanicheskij-proezd-dom-1</td>\n",
       "      <td>2556</td>\n",
       "      <td>[55.8502, 37.634]</td>\n",
       "      <td>OLD</td>\n",
       "      <td>POLYGON((55.8499893843668 37.6338654756546,55....</td>\n",
       "      <td>2455</td>\n",
       "      <td>NaN</td>\n",
       "      <td>NaN</td>\n",
       "      <td>NaN</td>\n",
       "      <td>NaN</td>\n",
       "      <td>37.634</td>\n",
       "      <td>55.8502</td>\n",
       "    </tr>\n",
       "  </tbody>\n",
       "</table>\n",
       "</div>"
      ],
      "text/plain": [
       "      id                            name                            code  \\\n",
       "0  32698  1-й Ботанический проезд, дом 1  1-j-botanicheskij-proezd-dom-1   \n",
       "\n",
       "   district             coords status_code  \\\n",
       "0      2556  [55.8502, 37.634]         OLD   \n",
       "\n",
       "                                             polygon  county ext_status  \\\n",
       "0  POLYGON((55.8499893843668 37.6338654756546,55....    2455        NaN   \n",
       "\n",
       "  infocenter metro finishing_code  longitude  latitude  \n",
       "0        NaN   NaN            NaN     37.634   55.8502  "
      ]
     },
     "execution_count": 4,
     "metadata": {},
     "output_type": "execute_result"
    }
   ],
   "source": [
    "df_fr.head(1)"
   ]
  },
  {
   "cell_type": "code",
   "execution_count": null,
   "metadata": {},
   "outputs": [],
   "source": []
  },
  {
   "cell_type": "markdown",
   "metadata": {},
   "source": [
    "#### Данные обо всех домах из mos.ru, они устаревшие и не полные данные (полные взяли у фонда ренвации), нужны для сопосоталения с unom"
   ]
  },
  {
   "cell_type": "code",
   "execution_count": 5,
   "metadata": {},
   "outputs": [],
   "source": [
    "# response_old = requests.get(\"https://www.mos.ru/altmosprx/api/1/renovation/bounded_addresses?full&p1=0,0&p2=1000,1000\")\n",
    "# df_old = pd.DataFrame.from_dict(response_old.json())\n",
    "# df_old[\"coords\"] = df_old.center.apply(lambda x: x[\"coordinates\"])\n",
    "# df_old[\"name\"] = df_old.card_fields.apply(lambda x: x[\"name\"])\n",
    "# df_old[\"district_name\"] = df_old.card_fields.apply(lambda x: x[\"district_name\"])\n",
    "# df_old[\"area_name\"] = df_old.card_fields.apply(lambda x: x[\"area_name\"])\n",
    "# df_old[\"result\"] = df_old.card_fields.apply(lambda x: x[\"result\"])\n",
    "# df_old[\"longitude\"] = df_old.coords.apply(lambda x: x[1])\n",
    "# df_old[\"latitude\"] = df_old.coords.apply(lambda x: x[0])\n",
    "\n",
    "# df_old.to_pickle(\"old.pkl\")"
   ]
  },
  {
   "cell_type": "code",
   "execution_count": 6,
   "metadata": {},
   "outputs": [],
   "source": [
    "df_old = pd.read_pickle(\"old.pkl\")"
   ]
  },
  {
   "cell_type": "code",
   "execution_count": 7,
   "metadata": {},
   "outputs": [
    {
     "data": {
      "text/html": [
       "<div>\n",
       "<style scoped>\n",
       "    .dataframe tbody tr th:only-of-type {\n",
       "        vertical-align: middle;\n",
       "    }\n",
       "\n",
       "    .dataframe tbody tr th {\n",
       "        vertical-align: top;\n",
       "    }\n",
       "\n",
       "    .dataframe thead th {\n",
       "        text-align: right;\n",
       "    }\n",
       "</style>\n",
       "<table border=\"1\" class=\"dataframe\">\n",
       "  <thead>\n",
       "    <tr style=\"text-align: right;\">\n",
       "      <th></th>\n",
       "      <th>unom</th>\n",
       "      <th>center</th>\n",
       "      <th>polygon</th>\n",
       "      <th>card_fields</th>\n",
       "      <th>coords</th>\n",
       "      <th>name</th>\n",
       "      <th>district_name</th>\n",
       "      <th>area_name</th>\n",
       "      <th>result</th>\n",
       "      <th>longitude</th>\n",
       "      <th>latitude</th>\n",
       "    </tr>\n",
       "  </thead>\n",
       "  <tbody>\n",
       "    <tr>\n",
       "      <th>0</th>\n",
       "      <td>28512</td>\n",
       "      <td>{'type': 'Point', 'coordinates': [55.846440424...</td>\n",
       "      <td>{'type': 'Polygon', 'coordinates': [[[55.84685...</td>\n",
       "      <td>{'name': 'проезд Черепановых, дом 74', 'distri...</td>\n",
       "      <td>[55.8464404248, 37.5561827096]</td>\n",
       "      <td>проезд Черепановых, дом 74</td>\n",
       "      <td>Коптево</td>\n",
       "      <td>САО</td>\n",
       "      <td>{'protocol_res': '1'}</td>\n",
       "      <td>37.556183</td>\n",
       "      <td>55.84644</td>\n",
       "    </tr>\n",
       "  </tbody>\n",
       "</table>\n",
       "</div>"
      ],
      "text/plain": [
       "    unom                                             center  \\\n",
       "0  28512  {'type': 'Point', 'coordinates': [55.846440424...   \n",
       "\n",
       "                                             polygon  \\\n",
       "0  {'type': 'Polygon', 'coordinates': [[[55.84685...   \n",
       "\n",
       "                                         card_fields  \\\n",
       "0  {'name': 'проезд Черепановых, дом 74', 'distri...   \n",
       "\n",
       "                           coords                        name district_name  \\\n",
       "0  [55.8464404248, 37.5561827096]  проезд Черепановых, дом 74       Коптево   \n",
       "\n",
       "  area_name                 result  longitude  latitude  \n",
       "0       САО  {'protocol_res': '1'}  37.556183  55.84644  "
      ]
     },
     "execution_count": 7,
     "metadata": {},
     "output_type": "execute_result"
    }
   ],
   "source": [
    "df_old.head(1)"
   ]
  },
  {
   "cell_type": "code",
   "execution_count": null,
   "metadata": {},
   "outputs": [],
   "source": []
  },
  {
   "cell_type": "markdown",
   "metadata": {},
   "source": [
    "#### Парсим первый приказ об этапах реновации (1.pdf), только его и можно спарсить, в нём некоторые дома совпдают по unom, для этого и нужны дынне с mos.ru"
   ]
  },
  {
   "cell_type": "code",
   "execution_count": 8,
   "metadata": {},
   "outputs": [],
   "source": [
    "# def parse_pdf_table(pages, pdf_file='1.pdf'):\n",
    "#     df = read_pdf(pdf_file, pages=pages, output_format = \"dataframe\", pandas_options={'header':None})[0]\n",
    "    \n",
    "#     # удаляем не нужные строки\n",
    "#     df = df[~(df.iloc[:,0] == 'No п/п')]\n",
    "    \n",
    "#     df['unom'] = df.iloc[:,-1].combine_first(df.iloc[:,-2])\n",
    "    \n",
    "#     # оставляем только нужные колонки\n",
    "#     df = df.iloc[:,[1, 2, 3, -1]]\n",
    "#     df.columns = ['AO', 'district', 'description', 'unom']\n",
    "    \n",
    "#     return df\n",
    "\n",
    "# wave_1 = parse_pdf_table('3-29') # 2020 - 2024\n",
    "# wave_1['wave'] = \"1\"\n",
    "\n",
    "# wave_2 = parse_pdf_table('30-76') # 2025 - 2028\n",
    "# wave_2['wave'] = \"2\"\n",
    "\n",
    "# wave_3 = parse_pdf_table('77-128') # 2029 - 2032\n",
    "# wave_3['wave'] = \"3\"\n",
    "\n",
    "# unknown = parse_pdf_table('129-148')\n",
    "# unknown['wave'] = np.nan\n",
    "\n",
    "# df_wave = pd.concat([wave_1, wave_2, wave_3, unknown], ignore_index=True)\n",
    "# df_wave.to_pickle(\"wave.pkl\")"
   ]
  },
  {
   "cell_type": "code",
   "execution_count": 9,
   "metadata": {},
   "outputs": [],
   "source": [
    "df_wave = pd.read_pickle(\"wave.pkl\")"
   ]
  },
  {
   "cell_type": "code",
   "execution_count": 10,
   "metadata": {},
   "outputs": [
    {
     "data": {
      "text/html": [
       "<div>\n",
       "<style scoped>\n",
       "    .dataframe tbody tr th:only-of-type {\n",
       "        vertical-align: middle;\n",
       "    }\n",
       "\n",
       "    .dataframe tbody tr th {\n",
       "        vertical-align: top;\n",
       "    }\n",
       "\n",
       "    .dataframe thead th {\n",
       "        text-align: right;\n",
       "    }\n",
       "</style>\n",
       "<table border=\"1\" class=\"dataframe\">\n",
       "  <thead>\n",
       "    <tr style=\"text-align: right;\">\n",
       "      <th></th>\n",
       "      <th>AO</th>\n",
       "      <th>district</th>\n",
       "      <th>description</th>\n",
       "      <th>unom</th>\n",
       "      <th>wave</th>\n",
       "    </tr>\n",
       "  </thead>\n",
       "  <tbody>\n",
       "    <tr>\n",
       "      <th>0</th>\n",
       "      <td>ЦАО</td>\n",
       "      <td>Басманный</td>\n",
       "      <td>Бакунинская ул., д.49 c.4</td>\n",
       "      <td>1316</td>\n",
       "      <td>1</td>\n",
       "    </tr>\n",
       "  </tbody>\n",
       "</table>\n",
       "</div>"
      ],
      "text/plain": [
       "    AO   district                description  unom wave\n",
       "0  ЦАО  Басманный  Бакунинская ул., д.49 c.4  1316    1"
      ]
     },
     "execution_count": 10,
     "metadata": {},
     "output_type": "execute_result"
    }
   ],
   "source": [
    "df_wave.head(1)"
   ]
  },
  {
   "cell_type": "code",
   "execution_count": null,
   "metadata": {},
   "outputs": [],
   "source": []
  },
  {
   "cell_type": "markdown",
   "metadata": {},
   "source": [
    "#### Сопосотовляем, что можем по unom, чтобы определить волну, округ и район."
   ]
  },
  {
   "cell_type": "code",
   "execution_count": 11,
   "metadata": {},
   "outputs": [],
   "source": [
    "df_fr[\"key\"] = df_fr.longitude.round(4).astype(str) + \"_\" + df_fr.latitude.round(4).astype(str)\n",
    "df_old[\"key\"] = df_old.longitude.round(4).astype(str) + \"_\" + df_old.latitude.round(4).astype(str)\n",
    "\n",
    "df = df_fr.merge(df_old[[\"key\", \"unom\", \"area_name\", \"district_name\"]], on=\"key\", how='left')"
   ]
  },
  {
   "cell_type": "code",
   "execution_count": 12,
   "metadata": {},
   "outputs": [],
   "source": [
    "df = df.merge(df_wave[[\"unom\", \"wave\"]], on=\"unom\", how='left')"
   ]
  },
  {
   "cell_type": "code",
   "execution_count": null,
   "metadata": {},
   "outputs": [],
   "source": []
  },
  {
   "cell_type": "code",
   "execution_count": 13,
   "metadata": {},
   "outputs": [],
   "source": [
    "mapper_ao = df[[\"county\", \"area_name\"]].drop_duplicates().dropna()"
   ]
  },
  {
   "cell_type": "code",
   "execution_count": 14,
   "metadata": {},
   "outputs": [],
   "source": [
    "ao = dict(zip(mapper_ao.county, mapper_ao.area_name))"
   ]
  },
  {
   "cell_type": "code",
   "execution_count": 15,
   "metadata": {},
   "outputs": [
    {
     "data": {
      "text/plain": [
       "{2455: 'СВАО',\n",
       " 2450: 'СЗАО',\n",
       " 2457: 'ЮВАО',\n",
       " 2454: 'ЦАО',\n",
       " 2452: 'САО',\n",
       " 2448: 'ЗАО',\n",
       " 2451: 'ЮАО',\n",
       " 2456: 'ВАО',\n",
       " 2453: 'ЮЗАО',\n",
       " 2449: 'ЗелАО',\n",
       " 2459: 'ТиНАО',\n",
       " 41262: 'ТиНАО'}"
      ]
     },
     "execution_count": 15,
     "metadata": {},
     "output_type": "execute_result"
    }
   ],
   "source": [
    "ao"
   ]
  },
  {
   "cell_type": "code",
   "execution_count": 16,
   "metadata": {},
   "outputs": [],
   "source": [
    "df.area_name = df.county.map(ao)"
   ]
  },
  {
   "cell_type": "code",
   "execution_count": 17,
   "metadata": {},
   "outputs": [
    {
     "data": {
      "text/plain": [
       "False"
      ]
     },
     "execution_count": 17,
     "metadata": {},
     "output_type": "execute_result"
    }
   ],
   "source": [
    "df.area_name.isna().any()"
   ]
  },
  {
   "cell_type": "code",
   "execution_count": null,
   "metadata": {},
   "outputs": [],
   "source": []
  },
  {
   "cell_type": "code",
   "execution_count": 18,
   "metadata": {},
   "outputs": [],
   "source": [
    "mapper_district = df[[\"district\", \"district_name\"]].drop_duplicates().dropna()"
   ]
  },
  {
   "cell_type": "code",
   "execution_count": 19,
   "metadata": {},
   "outputs": [],
   "source": [
    "district = dict(zip(mapper_district.district, mapper_district.district_name))"
   ]
  },
  {
   "cell_type": "code",
   "execution_count": 20,
   "metadata": {
    "scrolled": true
   },
   "outputs": [],
   "source": [
    "# Добавляем неопределившийся район\n",
    "district[2497] = \"Молжаниновский\""
   ]
  },
  {
   "cell_type": "code",
   "execution_count": 21,
   "metadata": {},
   "outputs": [],
   "source": [
    "df.district_name = df.district.map(district)"
   ]
  },
  {
   "cell_type": "code",
   "execution_count": 22,
   "metadata": {},
   "outputs": [
    {
     "data": {
      "text/plain": [
       "False"
      ]
     },
     "execution_count": 22,
     "metadata": {},
     "output_type": "execute_result"
    }
   ],
   "source": [
    "df.district_name.isna().any()"
   ]
  },
  {
   "cell_type": "code",
   "execution_count": null,
   "metadata": {},
   "outputs": [],
   "source": []
  },
  {
   "cell_type": "markdown",
   "metadata": {},
   "source": [
    "#### 825 домов придётся разметить вручную"
   ]
  },
  {
   "cell_type": "code",
   "execution_count": 23,
   "metadata": {},
   "outputs": [],
   "source": [
    "df_unmark = df[df.wave.isna()]"
   ]
  },
  {
   "cell_type": "code",
   "execution_count": 24,
   "metadata": {},
   "outputs": [],
   "source": [
    "df_unmark = df_unmark[[\"area_name\", \"district_name\", \"name\", \"id\", \"wave\"]].sort_values(by=[\"area_name\", \"district_name\", \"name\"])"
   ]
  },
  {
   "cell_type": "code",
   "execution_count": 25,
   "metadata": {},
   "outputs": [
    {
     "data": {
      "text/plain": [
       "(825, 5)"
      ]
     },
     "execution_count": 25,
     "metadata": {},
     "output_type": "execute_result"
    }
   ],
   "source": [
    "df_unmark.shape"
   ]
  },
  {
   "cell_type": "code",
   "execution_count": 26,
   "metadata": {},
   "outputs": [],
   "source": [
    "# Для разметки вручную из второго и третьего приказов (2.pdf и 3.pdf), кое-что из первого (1.pdf).\n",
    "df_unmark.to_csv(\"unmark.csv\", index=False)"
   ]
  },
  {
   "cell_type": "code",
   "execution_count": 27,
   "metadata": {},
   "outputs": [],
   "source": [
    "# Рзмеченные вручную этапы реновации для 825 домов!\n",
    "hand_marked = pd.read_csv(\"hand_marked.csv\")\n",
    "hand_marked.id = hand_marked.id.astype(str)\n",
    "hand_marked.wave = hand_marked.wave.astype(str)\n",
    "hand_marked = hand_marked.rename(columns={\"wave\": \"wave_h\"})"
   ]
  },
  {
   "cell_type": "code",
   "execution_count": 28,
   "metadata": {},
   "outputs": [
    {
     "data": {
      "text/html": [
       "<div>\n",
       "<style scoped>\n",
       "    .dataframe tbody tr th:only-of-type {\n",
       "        vertical-align: middle;\n",
       "    }\n",
       "\n",
       "    .dataframe tbody tr th {\n",
       "        vertical-align: top;\n",
       "    }\n",
       "\n",
       "    .dataframe thead th {\n",
       "        text-align: right;\n",
       "    }\n",
       "</style>\n",
       "<table border=\"1\" class=\"dataframe\">\n",
       "  <thead>\n",
       "    <tr style=\"text-align: right;\">\n",
       "      <th></th>\n",
       "      <th>area_name</th>\n",
       "      <th>district_name</th>\n",
       "      <th>name</th>\n",
       "      <th>id</th>\n",
       "      <th>wave_h</th>\n",
       "    </tr>\n",
       "  </thead>\n",
       "  <tbody>\n",
       "    <tr>\n",
       "      <th>0</th>\n",
       "      <td>ВАО</td>\n",
       "      <td>Богородское</td>\n",
       "      <td>4-я Гражданская улица, дом 43, корпус 1</td>\n",
       "      <td>40118</td>\n",
       "      <td>3</td>\n",
       "    </tr>\n",
       "    <tr>\n",
       "      <th>1</th>\n",
       "      <td>ВАО</td>\n",
       "      <td>Восточный</td>\n",
       "      <td>Главная улица, дом 15А</td>\n",
       "      <td>31493</td>\n",
       "      <td>2</td>\n",
       "    </tr>\n",
       "    <tr>\n",
       "      <th>2</th>\n",
       "      <td>ВАО</td>\n",
       "      <td>Восточный</td>\n",
       "      <td>посёлок Акулово, дом 10</td>\n",
       "      <td>33323</td>\n",
       "      <td>3</td>\n",
       "    </tr>\n",
       "    <tr>\n",
       "      <th>3</th>\n",
       "      <td>ВАО</td>\n",
       "      <td>Восточный</td>\n",
       "      <td>посёлок Акулово, дом 11</td>\n",
       "      <td>33325</td>\n",
       "      <td>3</td>\n",
       "    </tr>\n",
       "    <tr>\n",
       "      <th>4</th>\n",
       "      <td>ВАО</td>\n",
       "      <td>Восточный</td>\n",
       "      <td>посёлок Акулово, дом 13</td>\n",
       "      <td>31491</td>\n",
       "      <td>3</td>\n",
       "    </tr>\n",
       "  </tbody>\n",
       "</table>\n",
       "</div>"
      ],
      "text/plain": [
       "  area_name district_name                                     name     id  \\\n",
       "0       ВАО   Богородское  4-я Гражданская улица, дом 43, корпус 1  40118   \n",
       "1       ВАО     Восточный                   Главная улица, дом 15А  31493   \n",
       "2       ВАО     Восточный                  посёлок Акулово, дом 10  33323   \n",
       "3       ВАО     Восточный                  посёлок Акулово, дом 11  33325   \n",
       "4       ВАО     Восточный                  посёлок Акулово, дом 13  31491   \n",
       "\n",
       "  wave_h  \n",
       "0      3  \n",
       "1      2  \n",
       "2      3  \n",
       "3      3  \n",
       "4      3  "
      ]
     },
     "execution_count": 28,
     "metadata": {},
     "output_type": "execute_result"
    }
   ],
   "source": [
    "hand_marked.head(5)"
   ]
  },
  {
   "cell_type": "code",
   "execution_count": null,
   "metadata": {},
   "outputs": [],
   "source": []
  },
  {
   "cell_type": "code",
   "execution_count": 29,
   "metadata": {},
   "outputs": [],
   "source": [
    "df = df.merge(hand_marked[[\"id\", \"wave_h\"]], on=\"id\", how='left')"
   ]
  },
  {
   "cell_type": "code",
   "execution_count": 30,
   "metadata": {},
   "outputs": [],
   "source": [
    "df.wave = df.wave.fillna(df.wave_h)"
   ]
  },
  {
   "cell_type": "code",
   "execution_count": 31,
   "metadata": {},
   "outputs": [
    {
     "data": {
      "text/plain": [
       "False"
      ]
     },
     "execution_count": 31,
     "metadata": {},
     "output_type": "execute_result"
    }
   ],
   "source": [
    "df.wave.isna().any()"
   ]
  },
  {
   "cell_type": "code",
   "execution_count": null,
   "metadata": {},
   "outputs": [],
   "source": []
  },
  {
   "cell_type": "markdown",
   "metadata": {},
   "source": [
    "#### Удаляем лишнее, выправляем данные"
   ]
  },
  {
   "cell_type": "code",
   "execution_count": 32,
   "metadata": {},
   "outputs": [],
   "source": [
    "df = df[[\"id\", \"area_name\", \"district_name\", \"name\", \"wave\", \"ext_status\", \"longitude\", \"latitude\"]]"
   ]
  },
  {
   "cell_type": "code",
   "execution_count": 33,
   "metadata": {},
   "outputs": [
    {
     "data": {
      "text/html": [
       "<div>\n",
       "<style scoped>\n",
       "    .dataframe tbody tr th:only-of-type {\n",
       "        vertical-align: middle;\n",
       "    }\n",
       "\n",
       "    .dataframe tbody tr th {\n",
       "        vertical-align: top;\n",
       "    }\n",
       "\n",
       "    .dataframe thead th {\n",
       "        text-align: right;\n",
       "    }\n",
       "</style>\n",
       "<table border=\"1\" class=\"dataframe\">\n",
       "  <thead>\n",
       "    <tr style=\"text-align: right;\">\n",
       "      <th></th>\n",
       "      <th>id</th>\n",
       "      <th>area_name</th>\n",
       "      <th>district_name</th>\n",
       "      <th>name</th>\n",
       "      <th>wave</th>\n",
       "      <th>ext_status</th>\n",
       "      <th>longitude</th>\n",
       "      <th>latitude</th>\n",
       "    </tr>\n",
       "  </thead>\n",
       "  <tbody>\n",
       "    <tr>\n",
       "      <th>0</th>\n",
       "      <td>32698</td>\n",
       "      <td>СВАО</td>\n",
       "      <td>Свиблово</td>\n",
       "      <td>1-й Ботанический проезд, дом 1</td>\n",
       "      <td>2</td>\n",
       "      <td>NaN</td>\n",
       "      <td>37.6340</td>\n",
       "      <td>55.8502</td>\n",
       "    </tr>\n",
       "    <tr>\n",
       "      <th>1</th>\n",
       "      <td>32700</td>\n",
       "      <td>СВАО</td>\n",
       "      <td>Свиблово</td>\n",
       "      <td>1-й Ботанический проезд, дом 3</td>\n",
       "      <td>3</td>\n",
       "      <td>NaN</td>\n",
       "      <td>37.6343</td>\n",
       "      <td>55.8510</td>\n",
       "    </tr>\n",
       "    <tr>\n",
       "      <th>2</th>\n",
       "      <td>29325</td>\n",
       "      <td>СВАО</td>\n",
       "      <td>Свиблово</td>\n",
       "      <td>1-й Ботанический проезд, дом 3А</td>\n",
       "      <td>2</td>\n",
       "      <td>NaN</td>\n",
       "      <td>37.6336</td>\n",
       "      <td>55.8511</td>\n",
       "    </tr>\n",
       "    <tr>\n",
       "      <th>3</th>\n",
       "      <td>29786</td>\n",
       "      <td>СЗАО</td>\n",
       "      <td>Щукино</td>\n",
       "      <td>1-й Волоколамский проезд, дом 7, корпус 1</td>\n",
       "      <td>1</td>\n",
       "      <td>destroyed</td>\n",
       "      <td>37.4918</td>\n",
       "      <td>55.8008</td>\n",
       "    </tr>\n",
       "    <tr>\n",
       "      <th>4</th>\n",
       "      <td>29788</td>\n",
       "      <td>СЗАО</td>\n",
       "      <td>Щукино</td>\n",
       "      <td>1-й Волоколамский проезд, дом 7, корпус 2</td>\n",
       "      <td>1</td>\n",
       "      <td>destroyed</td>\n",
       "      <td>37.4911</td>\n",
       "      <td>55.8007</td>\n",
       "    </tr>\n",
       "  </tbody>\n",
       "</table>\n",
       "</div>"
      ],
      "text/plain": [
       "      id area_name district_name                                       name  \\\n",
       "0  32698      СВАО      Свиблово             1-й Ботанический проезд, дом 1   \n",
       "1  32700      СВАО      Свиблово             1-й Ботанический проезд, дом 3   \n",
       "2  29325      СВАО      Свиблово            1-й Ботанический проезд, дом 3А   \n",
       "3  29786      СЗАО        Щукино  1-й Волоколамский проезд, дом 7, корпус 1   \n",
       "4  29788      СЗАО        Щукино  1-й Волоколамский проезд, дом 7, корпус 2   \n",
       "\n",
       "  wave ext_status  longitude  latitude  \n",
       "0    2        NaN    37.6340   55.8502  \n",
       "1    3        NaN    37.6343   55.8510  \n",
       "2    2        NaN    37.6336   55.8511  \n",
       "3    1  destroyed    37.4918   55.8008  \n",
       "4    1  destroyed    37.4911   55.8007  "
      ]
     },
     "execution_count": 33,
     "metadata": {},
     "output_type": "execute_result"
    }
   ],
   "source": [
    "df.head()"
   ]
  },
  {
   "cell_type": "code",
   "execution_count": null,
   "metadata": {},
   "outputs": [],
   "source": []
  },
  {
   "cell_type": "code",
   "execution_count": 34,
   "metadata": {},
   "outputs": [
    {
     "data": {
      "text/plain": [
       "array([nan, 'destroyed', 'settling', 'settled'], dtype=object)"
      ]
     },
     "execution_count": 34,
     "metadata": {},
     "output_type": "execute_result"
    }
   ],
   "source": [
    "df.ext_status.unique()"
   ]
  },
  {
   "cell_type": "code",
   "execution_count": 35,
   "metadata": {},
   "outputs": [
    {
     "data": {
      "text/html": [
       "<div>\n",
       "<style scoped>\n",
       "    .dataframe tbody tr th:only-of-type {\n",
       "        vertical-align: middle;\n",
       "    }\n",
       "\n",
       "    .dataframe tbody tr th {\n",
       "        vertical-align: top;\n",
       "    }\n",
       "\n",
       "    .dataframe thead th {\n",
       "        text-align: right;\n",
       "    }\n",
       "</style>\n",
       "<table border=\"1\" class=\"dataframe\">\n",
       "  <thead>\n",
       "    <tr style=\"text-align: right;\">\n",
       "      <th></th>\n",
       "      <th>id</th>\n",
       "      <th>area_name</th>\n",
       "      <th>district_name</th>\n",
       "      <th>name</th>\n",
       "      <th>wave</th>\n",
       "      <th>ext_status</th>\n",
       "      <th>longitude</th>\n",
       "      <th>latitude</th>\n",
       "    </tr>\n",
       "  </thead>\n",
       "  <tbody>\n",
       "    <tr>\n",
       "      <th>4816</th>\n",
       "      <td>29958</td>\n",
       "      <td>ЮВАО</td>\n",
       "      <td>Кузьминки</td>\n",
       "      <td>улица Юных Ленинцев, дом 44, корпус 2</td>\n",
       "      <td>2</td>\n",
       "      <td>settled</td>\n",
       "      <td>37.7599</td>\n",
       "      <td>55.6999</td>\n",
       "    </tr>\n",
       "  </tbody>\n",
       "</table>\n",
       "</div>"
      ],
      "text/plain": [
       "         id area_name district_name                                   name  \\\n",
       "4816  29958      ЮВАО     Кузьминки  улица Юных Ленинцев, дом 44, корпус 2   \n",
       "\n",
       "     wave ext_status  longitude  latitude  \n",
       "4816    2    settled    37.7599   55.6999  "
      ]
     },
     "execution_count": 35,
     "metadata": {},
     "output_type": "execute_result"
    }
   ],
   "source": [
    "df[df.ext_status == \"settled\"]"
   ]
  },
  {
   "cell_type": "code",
   "execution_count": 36,
   "metadata": {},
   "outputs": [],
   "source": [
    "# settled тоже самое, что и снесено\n",
    "df.loc[df.ext_status == \"settled\", \"ext_status\"] = \"destroyed\""
   ]
  },
  {
   "cell_type": "code",
   "execution_count": 37,
   "metadata": {},
   "outputs": [],
   "source": [
    "# nan - значит, что реновация не стартовала, для удобства заменим на not_started\n",
    "df.ext_status = df.ext_status.fillna(\"not_started\")"
   ]
  },
  {
   "cell_type": "code",
   "execution_count": 38,
   "metadata": {},
   "outputs": [
    {
     "data": {
      "text/plain": [
       "array(['not_started', 'destroyed', 'settling'], dtype=object)"
      ]
     },
     "execution_count": 38,
     "metadata": {},
     "output_type": "execute_result"
    }
   ],
   "source": [
    "df.ext_status.unique()"
   ]
  },
  {
   "cell_type": "code",
   "execution_count": 39,
   "metadata": {},
   "outputs": [],
   "source": [
    "# settling - Переселение производится прямо сейчас\n",
    "# destroyed - Дом снесён\n",
    "# not_started - Реновация ещё не началась"
   ]
  },
  {
   "cell_type": "code",
   "execution_count": null,
   "metadata": {},
   "outputs": [],
   "source": []
  },
  {
   "cell_type": "markdown",
   "metadata": {},
   "source": [
    "#### На полученных данных теперь можно оценить результаты реновации!"
   ]
  },
  {
   "cell_type": "code",
   "execution_count": 3,
   "metadata": {},
   "outputs": [],
   "source": [
    "# df.to_pickle(\"final.pkl\")\n",
    "df = pd.read_pickle(\"final.pkl\")"
   ]
  },
  {
   "cell_type": "code",
   "execution_count": 4,
   "metadata": {},
   "outputs": [
    {
     "name": "stdout",
     "output_type": "stream",
     "text": [
      "Количество домов входящих в реновацию, всего: 5176\n"
     ]
    }
   ],
   "source": [
    "n = len(df)\n",
    "print(\"Количество домов входящих в реновацию, всего:\", n)"
   ]
  },
  {
   "cell_type": "code",
   "execution_count": 5,
   "metadata": {},
   "outputs": [
    {
     "name": "stdout",
     "output_type": "stream",
     "text": [
      "Первый этап 2020 — 2024гг., в него вошло 1193 домов, доля от общего числа 23.0%\n",
      "Второй этап 2025 — 2028гг., в него вошло 1888 домов, доля от общего числа 36.5%\n",
      "Третий этап 2029 — 2032гг., в него вошло 2095 домов, доля от общего числа 40.5%\n"
     ]
    }
   ],
   "source": [
    "first = np.sum(df.wave == \"1\")\n",
    "second = np.sum(df.wave == \"2\")\n",
    "third = np.sum(df.wave == \"3\")\n",
    "\n",
    "print(f\"Первый этап 2020 — 2024гг., в него вошло {first} домов, доля от общего числа {first / n * 100:.3}%\")\n",
    "print(f\"Второй этап 2025 — 2028гг., в него вошло {second} домов, доля от общего числа {second / n * 100:.3}%\")\n",
    "print(f\"Третий этап 2029 — 2032гг., в него вошло {third} домов, доля от общего числа {third / n * 100:.3}%\")"
   ]
  },
  {
   "cell_type": "markdown",
   "metadata": {},
   "source": [
    "На сегодняшний день первая волна почти уже закончилась, до её завершения осталось чуть больше трёх месяцев. Значит, все дома первой волны, которые ещё не снесены, должны быть в процессе переселения как минимум, посмотрим, на сколько на данный момент она выполнена."
   ]
  },
  {
   "cell_type": "code",
   "execution_count": 6,
   "metadata": {},
   "outputs": [
    {
     "name": "stdout",
     "output_type": "stream",
     "text": [
      "Первой волной реновацией был затронут 921 дом\n",
      "Первая волна реновации выполнена на данный момент на 77.2%\n"
     ]
    }
   ],
   "source": [
    "first_part = np.sum((df.wave == \"1\") & (df.ext_status != \"not_started\"))\n",
    "first_n = np.sum(df.wave == \"1\")\n",
    "print(f\"Первой волной реновацией был затронут {first_part} дом\")\n",
    "print(f\"Первая волна реновации выполнена на данный момент на {first_part / first_n * 100:.3}%\")"
   ]
  },
  {
   "cell_type": "markdown",
   "metadata": {},
   "source": [
    "Теперь можно рассмотреть результаты реновации в общем по количеству снесённых домов не зависимо от волны."
   ]
  },
  {
   "cell_type": "code",
   "execution_count": 9,
   "metadata": {},
   "outputs": [
    {
     "name": "stdout",
     "output_type": "stream",
     "text": [
      "Из них уже снесенно: 461 домов\n",
      "Доля cнесённых от общего числа: 8.91%\n"
     ]
    }
   ],
   "source": [
    "destroed = np.sum(df.ext_status == \"destroyed\")\n",
    "print(f\"Из них уже снесенно: {destroed} домов\")\n",
    "print(f\"Доля cнесённых от общего числа: {destroed / n * 100:.3}%\")"
   ]
  },
  {
   "cell_type": "code",
   "execution_count": 10,
   "metadata": {},
   "outputs": [
    {
     "name": "stdout",
     "output_type": "stream",
     "text": [
      "Количество домов, которые переселяются уже сейчас: 565 домов\n",
      "Доля переселяемых домов от общего числа: 10.9%\n"
     ]
    }
   ],
   "source": [
    "settling = np.sum(df.ext_status == \"settling\")\n",
    "print(f\"Количество домов, которые переселяются уже сейчас: {settling} домов\")\n",
    "print(f\"Доля переселяемых домов от общего числа: {settling / n * 100:.3}%\")"
   ]
  },
  {
   "cell_type": "markdown",
   "metadata": {},
   "source": [
    "Рассмотрим подробнее в общем, сколько должно быть снесено домов и что есть по факту."
   ]
  },
  {
   "cell_type": "code",
   "execution_count": 11,
   "metadata": {},
   "outputs": [
    {
     "name": "stdout",
     "output_type": "stream",
     "text": [
      "Количество домов активно затронутых реновацией не зависимо от волны 1026 домов\n",
      "Завершённость реновации в целом не зависимо от волны: 19.8%\n"
     ]
    }
   ],
   "source": [
    "print(f\"Количество домов активно затронутых реновацией не зависимо от волны {destroed + settling} домов\")\n",
    "print(f\"Завершённость реновации в целом не зависимо от волны: {(destroed + settling) / n * 100:.3}%\")"
   ]
  },
  {
   "cell_type": "code",
   "execution_count": 14,
   "metadata": {},
   "outputs": [
    {
     "name": "stdout",
     "output_type": "stream",
     "text": [
      "Количество домов первной волны активно не затронутых реновацией 272 домов\n",
      "От общего числа домов: 5.26%\n"
     ]
    }
   ],
   "source": [
    "print(f\"Количество домов первной волны активно не затронутых реновацией {first_n - first_part} дома\")\n",
    "print(f\"От общего числа домов: {(first_n - first_part) / n * 100:.3}%\")"
   ]
  },
  {
   "cell_type": "markdown",
   "metadata": {},
   "source": [
    "До конца первой волны остались считанные месяцы, но для её полной реалзиации необходимо обхватить ещё 272 дома, что приводит к задолженности в 5.26% на данный момент и к началу 2025 года эта цифра скорее всего изменится не сильно, всё строительство или переселение - это не быстрые процессы"
   ]
  },
  {
   "cell_type": "markdown",
   "metadata": {},
   "source": [
    "Вторая волна ещё больше первой по количеству домов, а треться - самая большая, так что отставание скорее всего так и будет нарастать. Хотя кончено как знать, сейчас переселяется домов больше, чем было снесено за прошедшее время программы. Однако, реновация уже отстаёт от плана, так что она получится только если в каких-то местах будет форсирована."
   ]
  },
  {
   "cell_type": "markdown",
   "metadata": {},
   "source": [
    "Исоходя из этого, можно оценить реновацию с другой строны - без учёта волн, ведь в некторых районах уже затрагиваются дома второй или даже третьей волны. Таким образом в результате первой волны в прогамме должно было активно поучаствовать 23.0% от всех домов, а на данный момент их число равно 19.8%, другими словами 23.0-19.8 = 3.2% можно скзать, что это минимальная оценка задолженности."
   ]
  },
  {
   "cell_type": "markdown",
   "metadata": {},
   "source": [
    "Исходя из этого получаем оптимистичную оценку задолженности 3.2% и негативную в 5.26%. Эти цифры едвали сильно изменятся за оставшееся время до конца первой волны. Учитывая насколько текущая программа реновации сложная и большая, задолженность от 3.2% до 5.26% выглядит просто фантастически маленькой."
   ]
  },
  {
   "cell_type": "markdown",
   "metadata": {},
   "source": [
    "Рассмотрим теперь результаты по каждому округу, а затем и по каждому району."
   ]
  },
  {
   "cell_type": "code",
   "execution_count": 22,
   "metadata": {},
   "outputs": [],
   "source": [
    "def stat_func(df):\n",
    "    first_n = np.sum(df.wave == \"1\")\n",
    "    first_part = np.sum((df.wave == \"1\") & (df.ext_status != \"not_started\"))\n",
    "    first_complete = first_part / first_n * 100\n",
    "\n",
    "    n = len(df)\n",
    "    plan = first_n / n * 100\n",
    "    renovated = np.sum(df.ext_status != \"not_started\") / n * 100\n",
    "    forced = renovated - plan\n",
    "\n",
    "    \n",
    "    return pd.Series(\n",
    "        {\n",
    "            \"first_complete\": round(first_complete, 2), \n",
    "            \"plan\": round(plan, 2),\n",
    "            \"renovated\": round(renovated, 2),\n",
    "            \"forced\": round(forced, 2)\n",
    "        }\n",
    "    )"
   ]
  },
  {
   "cell_type": "code",
   "execution_count": 24,
   "metadata": {},
   "outputs": [
    {
     "name": "stdout",
     "output_type": "stream",
     "text": [
      "    Округ  Завершение первой волны %  По плану от общего числа в округе %  \\\n",
      "1   ЗелАО                     100.00                                35.29   \n",
      "2    ЮЗАО                      85.98                                20.58   \n",
      "3    СВАО                      82.95                                17.64   \n",
      "4     ЦАО                      82.93                                37.27   \n",
      "5     ЗАО                      82.17                                28.09   \n",
      "6    ЮВАО                      80.66                                22.13   \n",
      "7     ЮАО                      78.02                                24.07   \n",
      "8   ТиНАО                      76.81                                55.42   \n",
      "9    СЗАО                      74.51                                11.81   \n",
      "10    САО                      72.12                                20.19   \n",
      "11    ВАО                      65.02                                21.00   \n",
      "\n",
      "    Текущее от общего числа в округе %  Опережение или отставание от плана %  \n",
      "1                                35.29                                  0.00  \n",
      "2                                18.46                                 -2.12  \n",
      "3                                15.43                                 -2.20  \n",
      "4                                31.82                                 -5.45  \n",
      "5                                27.01                                 -1.07  \n",
      "6                                19.93                                 -2.20  \n",
      "7                                21.43                                 -2.65  \n",
      "8                                46.59                                 -8.84  \n",
      "9                                 9.95                                 -1.85  \n",
      "10                               15.92                                 -4.27  \n",
      "11                               16.01                                 -4.99  \n"
     ]
    }
   ],
   "source": [
    "ao_stat = (\n",
    "    df.groupby(\"area_name\")\n",
    "     .apply(stat_func)\n",
    "     .reset_index()\n",
    "     .sort_values(by=[\"first_complete\", \"forced\", \"area_name\"], ascending=False)\n",
    "     .rename(columns={\n",
    "         \"area_name\": \"Округ\", \n",
    "         \"first_complete\":\"Завершение первой волны %\",\n",
    "         \"plan\": \"По плану от общего числа в округе %\",\n",
    "         \"renovated\": \"Текущее от общего числа в округе %\",\n",
    "         \"forced\": \"Опережение или отставание от плана %\",\n",
    "     })\n",
    ")\n",
    "ao_stat.index = np.arange(1, len(ao_stat) + 1)\n",
    "ao_stat.to_excel(\"ao_stat.xlsx\") \n",
    "print(ao_stat)"
   ]
  },
  {
   "cell_type": "code",
   "execution_count": 26,
   "metadata": {},
   "outputs": [
    {
     "name": "stdout",
     "output_type": "stream",
     "text": [
      "  Округ            Район Завершение первой волны %  \\\n",
      "1  ЮЗАО         Коньково                     100.0   \n",
      "2  ЮЗАО  Северное Бутово                     100.0   \n",
      "3  ЮЗАО        Черёмушки                     100.0   \n",
      "4  ЮЗАО     Южное Бутово                     100.0   \n",
      "5  ЮЗАО          Ясенево                     100.0   \n",
      "\n",
      "   По плану от общего числа в округе %  Текущее от общего числа в округе %  \\\n",
      "1                                39.02                               43.90   \n",
      "2                                50.00                               50.00   \n",
      "3                                 5.88                                5.88   \n",
      "4                                38.46                               38.46   \n",
      "5                               100.00                              100.00   \n",
      "\n",
      "   Опережение или отставание от плана %  \n",
      "1                                  4.88  \n",
      "2                                  0.00  \n",
      "3                                  0.00  \n",
      "4                                  0.00  \n",
      "5                                  0.00  \n"
     ]
    }
   ],
   "source": [
    "district_stat = (\n",
    "    df.groupby([\"area_name\", \"district_name\"])\n",
    "     .apply(stat_func)\n",
    "     .reset_index()\n",
    "     .sort_values(by=[\"area_name\", \"first_complete\", \"forced\"], ascending=False)\n",
    "     .rename(columns={\n",
    "         \"area_name\": \"Округ\",\n",
    "         \"district_name\": \"Район\",\n",
    "         \"first_complete\":\"Завершение первой волны %\",\n",
    "         \"plan\": \"По плану от общего числа в районе %\",\n",
    "         \"renovated\": \"Текущее от общего числа в районе %\",\n",
    "         \"forced\": \"Опережение или отставание от плана %\",\n",
    "     })\n",
    ")\n",
    "district_stat.index = np.arange(1, len(district_stat) + 1)\n",
    "district_stat = district_stat.fillna(\"Нет домов первой волны\")\n",
    "\n",
    "\n",
    "district_stat.to_excel(\"district_stat.xlsx\") \n",
    "print(district_stat.head())"
   ]
  },
  {
   "cell_type": "code",
   "execution_count": null,
   "metadata": {},
   "outputs": [],
   "source": []
  },
  {
   "cell_type": "code",
   "execution_count": null,
   "metadata": {},
   "outputs": [],
   "source": []
  },
  {
   "cell_type": "code",
   "execution_count": null,
   "metadata": {},
   "outputs": [],
   "source": []
  },
  {
   "cell_type": "code",
   "execution_count": null,
   "metadata": {},
   "outputs": [],
   "source": []
  },
  {
   "cell_type": "code",
   "execution_count": null,
   "metadata": {},
   "outputs": [],
   "source": []
  },
  {
   "cell_type": "code",
   "execution_count": null,
   "metadata": {},
   "outputs": [],
   "source": []
  },
  {
   "cell_type": "code",
   "execution_count": null,
   "metadata": {},
   "outputs": [],
   "source": []
  },
  {
   "cell_type": "code",
   "execution_count": null,
   "metadata": {},
   "outputs": [],
   "source": []
  }
 ],
 "metadata": {
  "kernelspec": {
   "display_name": "Python 3 (ipykernel)",
   "language": "python",
   "name": "python3"
  },
  "language_info": {
   "codemirror_mode": {
    "name": "ipython",
    "version": 3
   },
   "file_extension": ".py",
   "mimetype": "text/x-python",
   "name": "python",
   "nbconvert_exporter": "python",
   "pygments_lexer": "ipython3",
   "version": "3.12.2"
  }
 },
 "nbformat": 4,
 "nbformat_minor": 4
}
